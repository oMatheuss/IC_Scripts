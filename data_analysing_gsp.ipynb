{
 "cells": [
  {
   "cell_type": "code",
   "execution_count": 17,
   "metadata": {},
   "outputs": [],
   "source": [
    "import numpy as np\n",
    "import pandas as pd\n",
    "from gsppy.gsp import GSP"
   ]
  },
  {
   "cell_type": "code",
   "execution_count": 2,
   "metadata": {},
   "outputs": [
    {
     "data": {
      "text/plain": [
       "Index(['FEBRE', 'TOSSE', 'FADIGA', 'PALADAR E OLFATO', 'DISPINÉIA',\n",
       "       'OUTROS SINTOMAS', 'DIARREIA'],\n",
       "      dtype='object')"
      ]
     },
     "execution_count": 2,
     "metadata": {},
     "output_type": "execute_result"
    }
   ],
   "source": [
    "data = pd.read_excel(\"database_sintomas.xlsx\")\n",
    "data.columns"
   ]
  },
  {
   "cell_type": "code",
   "execution_count": 4,
   "metadata": {},
   "outputs": [
    {
     "name": "stdout",
     "output_type": "stream",
     "text": [
      "['FEBRE ALTA' 'FEBRÍCOLA' 'AFEBRIL' 'FEBRE']\n",
      "['TOSSE PERSISTENTE' 'TOSSE\\xa0PRODUTIVA' 'TOSSE SECA' 'SEM TOSSE']\n",
      "['SEM FADIGA' 'FADIGA']\n",
      "['PERDA DE PALADAR' 'SEM PERDA DE PALADAR OU OLFATO'\n",
      " 'PERDA DE PALADAR E OLFATO' 'PERDA DE OLFATO']\n",
      "['DISPINÉIA LEVE' 'DISPINÉIA MODERADA' 'SEM DISPINÉIA' 'DISPINÉIA GRAVE']\n",
      "['DORES E DESCONFORTOS' 'SEM DORES E DESCONFORTO' 'DOR DE GARGANTA'\n",
      " 'DOR DE CABEÇA']\n",
      "['DIARREIA' 'SEM DIARREIA']\n"
     ]
    }
   ],
   "source": [
    "for column in data.columns:\n",
    "    print(data[column].unique())"
   ]
  },
  {
   "cell_type": "code",
   "execution_count": 14,
   "metadata": {},
   "outputs": [],
   "source": [
    "processed_data = []\n",
    "discarded_states = ['AFEBRIL', 'SEM TOSSE', 'SEM FADIGA', 'SEM PERDA DE PALADAR OU OLFATO', 'SEM DISPINÉIA', 'SEM DORES E DESCONFORTO', 'SEM DIARREIA']\n",
    "\n",
    "for i in range(len(data)):\n",
    "    new_line = []\n",
    "    for col in data.columns:\n",
    "        if data[col][i] not in discarded_states:\n",
    "            new_line.append(data[col][i])\n",
    "    processed_data.append(new_line)"
   ]
  },
  {
   "cell_type": "code",
   "execution_count": 16,
   "metadata": {},
   "outputs": [
    {
     "name": "stdout",
     "output_type": "stream",
     "text": [
      "['FEBRE ALTA', 'TOSSE PERSISTENTE', 'PERDA DE PALADAR', 'DISPINÉIA LEVE', 'DORES E DESCONFORTOS', 'DIARREIA']\n",
      "['FEBRE ALTA', 'TOSSE\\xa0PRODUTIVA', 'FADIGA', 'DISPINÉIA MODERADA', 'DORES E DESCONFORTOS']\n",
      "['FEBRÍCOLA', 'TOSSE PERSISTENTE', 'FADIGA', 'PERDA DE PALADAR', 'DISPINÉIA LEVE', 'DIARREIA']\n",
      "['TOSSE PERSISTENTE', 'PERDA DE PALADAR E OLFATO', 'DISPINÉIA MODERADA', 'DORES E DESCONFORTOS']\n",
      "['FEBRÍCOLA', 'TOSSE SECA', 'PERDA DE PALADAR E OLFATO', 'DOR DE GARGANTA', 'DIARREIA']\n"
     ]
    }
   ],
   "source": [
    "for i in range(5):\n",
    "    print(processed_data[i])"
   ]
  },
  {
   "cell_type": "code",
   "execution_count": 24,
   "metadata": {},
   "outputs": [
    {
     "name": "stdout",
     "output_type": "stream",
     "text": [
      "[{('DIARREIA',): 50042, ('FADIGA',): 49855}]\n"
     ]
    }
   ],
   "source": [
    "result = GSP(processed_data).search(0.3)\n",
    "print(result)"
   ]
  }
 ],
 "metadata": {
  "interpreter": {
   "hash": "31f2aee4e71d21fbe5cf8b01ff0e069b9275f58929596ceb00d14d90e3e16cd6"
  },
  "kernelspec": {
   "display_name": "Python 3.9.7 64-bit",
   "language": "python",
   "name": "python3"
  },
  "language_info": {
   "codemirror_mode": {
    "name": "ipython",
    "version": 3
   },
   "file_extension": ".py",
   "mimetype": "text/x-python",
   "name": "python",
   "nbconvert_exporter": "python",
   "pygments_lexer": "ipython3",
   "version": "3.9.7"
  },
  "orig_nbformat": 4
 },
 "nbformat": 4,
 "nbformat_minor": 2
}
