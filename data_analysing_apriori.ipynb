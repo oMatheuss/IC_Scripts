{
 "cells": [
  {
   "cell_type": "code",
   "execution_count": 9,
   "metadata": {},
   "outputs": [],
   "source": [
    "import numpy as np\n",
    "import pandas as pd\n",
    "from sklearn.preprocessing import OneHotEncoder as ohe\n",
    "from mlxtend.frequent_patterns import apriori, association_rules, fpgrowth, fpmax"
   ]
  },
  {
   "cell_type": "code",
   "execution_count": 2,
   "metadata": {},
   "outputs": [
    {
     "data": {
      "text/plain": [
       "Index(['FEBRE', 'TOSSE', 'FADIGA', 'PALADAR E OLFATO', 'DISPINÉIA',\n",
       "       'OUTROS SINTOMAS', 'DIARREIA'],\n",
       "      dtype='object')"
      ]
     },
     "execution_count": 2,
     "metadata": {},
     "output_type": "execute_result"
    }
   ],
   "source": [
    "data = pd.read_excel(\"database_sintomas.xlsx\")\n",
    "data.columns"
   ]
  },
  {
   "cell_type": "code",
   "execution_count": 3,
   "metadata": {},
   "outputs": [],
   "source": [
    "encoder = ohe()\n",
    "febre = pd.DataFrame(encoder.fit_transform(data[\"FEBRE\"].values.reshape(-1, 1)).toarray(), columns=encoder.categories_[0])\n",
    "tosse = pd.DataFrame(encoder.fit_transform(data[\"TOSSE\"].values.reshape(-1, 1)).toarray(), columns=encoder.categories_[0])\n",
    "fadiga = pd.DataFrame(encoder.fit_transform(data[\"FADIGA\"].values.reshape(-1, 1)).toarray(), columns=encoder.categories_[0])\n",
    "paladar_e_olfato = pd.DataFrame(encoder.fit_transform(data[\"PALADAR E OLFATO\"].values.reshape(-1, 1)).toarray(), columns=encoder.categories_[0])\n",
    "dispineia = pd.DataFrame(encoder.fit_transform(data[\"DISPINÉIA\"].values.reshape(-1, 1)).toarray(), columns=encoder.categories_[0])\n",
    "outros_sintomas = pd.DataFrame(encoder.fit_transform(data[\"OUTROS SINTOMAS\"].values.reshape(-1, 1)).toarray(), columns=encoder.categories_[0])\n",
    "diarreia = pd.DataFrame(encoder.fit_transform(data[\"DIARREIA\"].values.reshape(-1, 1)).toarray(), columns=encoder.categories_[0])\n",
    "\n",
    "#print(fadiga.toarray()[:5])\n",
    "\n",
    "df_encoded = pd.concat([febre, tosse, fadiga, paladar_e_olfato, dispineia, outros_sintomas, diarreia], axis=1)"
   ]
  },
  {
   "cell_type": "code",
   "execution_count": 10,
   "metadata": {},
   "outputs": [
    {
     "name": "stdout",
     "output_type": "stream",
     "text": [
      "                   antecedents                consequents  antecedent support  \\\n",
      "287  (SEM DIARREIA, FEBRÍCOLA)               (SEM FADIGA)            0.124971   \n",
      "290               (SEM FADIGA)  (SEM DIARREIA, FEBRÍCOLA)            0.501445   \n",
      "84          (PERDA DE PALADAR)                (SEM TOSSE)            0.249242   \n",
      "85                 (SEM TOSSE)         (PERDA DE PALADAR)            0.246872   \n",
      "108          (DISPINÉIA GRAVE)        (TOSSE PERSISTENTE)            0.248012   \n",
      "\n",
      "     consequent support   support  confidence      lift  leverage  conviction  \n",
      "287            0.501445  0.064831    0.518765  1.034539  0.002164    1.035990  \n",
      "290            0.124971  0.064831    0.129288  1.034539  0.002164    1.004957  \n",
      "84             0.246872  0.063641    0.255336  1.034284  0.002110    1.011366  \n",
      "85             0.249242  0.063641    0.257787  1.034284  0.002110    1.011513  \n",
      "108            0.250683  0.064281    0.259183  1.033910  0.002108    1.011475  \n"
     ]
    }
   ],
   "source": [
    "frq_items = apriori(df_encoded, min_support = 0.05, use_colnames = True)\n",
    "\n",
    "rules = association_rules(frq_items, metric=\"lift\", min_threshold = 1)\n",
    "rules = rules.sort_values(['lift', 'support'], ascending=[False, False])\n",
    "\n",
    "print(rules.head())"
   ]
  },
  {
   "cell_type": "code",
   "execution_count": 11,
   "metadata": {},
   "outputs": [
    {
     "data": {
      "text/html": [
       "<div>\n",
       "<style scoped>\n",
       "    .dataframe tbody tr th:only-of-type {\n",
       "        vertical-align: middle;\n",
       "    }\n",
       "\n",
       "    .dataframe tbody tr th {\n",
       "        vertical-align: top;\n",
       "    }\n",
       "\n",
       "    .dataframe thead th {\n",
       "        text-align: right;\n",
       "    }\n",
       "</style>\n",
       "<table border=\"1\" class=\"dataframe\">\n",
       "  <thead>\n",
       "    <tr style=\"text-align: right;\">\n",
       "      <th></th>\n",
       "      <th>support</th>\n",
       "      <th>itemsets</th>\n",
       "    </tr>\n",
       "  </thead>\n",
       "  <tbody>\n",
       "    <tr>\n",
       "      <th>220</th>\n",
       "      <td>0.065341</td>\n",
       "      <td>(TOSSE PRODUTIVA, SEM PERDA DE PALADAR OU OLFATO)</td>\n",
       "    </tr>\n",
       "    <tr>\n",
       "      <th>188</th>\n",
       "      <td>0.065201</td>\n",
       "      <td>(AFEBRIL, TOSSE PRODUTIVA)</td>\n",
       "    </tr>\n",
       "    <tr>\n",
       "      <th>209</th>\n",
       "      <td>0.064831</td>\n",
       "      <td>(SEM DIARREIA, SEM FADIGA, FEBRÍCOLA)</td>\n",
       "    </tr>\n",
       "    <tr>\n",
       "      <th>231</th>\n",
       "      <td>0.064801</td>\n",
       "      <td>(DISPINÉIA LEVE, SEM PERDA DE PALADAR OU OLFATO)</td>\n",
       "    </tr>\n",
       "    <tr>\n",
       "      <th>226</th>\n",
       "      <td>0.064721</td>\n",
       "      <td>(DISPINÉIA LEVE, DOR DE CABEÇA)</td>\n",
       "    </tr>\n",
       "    <tr>\n",
       "      <th>...</th>\n",
       "      <td>...</td>\n",
       "      <td>...</td>\n",
       "    </tr>\n",
       "    <tr>\n",
       "      <th>21</th>\n",
       "      <td>0.060501</td>\n",
       "      <td>(DOR DE GARGANTA, PERDA DE OLFATO)</td>\n",
       "    </tr>\n",
       "    <tr>\n",
       "      <th>20</th>\n",
       "      <td>0.060401</td>\n",
       "      <td>(FEBRÍCOLA, DOR DE GARGANTA)</td>\n",
       "    </tr>\n",
       "    <tr>\n",
       "      <th>1</th>\n",
       "      <td>0.060241</td>\n",
       "      <td>(SEM TOSSE, PERDA DE OLFATO)</td>\n",
       "    </tr>\n",
       "    <tr>\n",
       "      <th>207</th>\n",
       "      <td>0.060141</td>\n",
       "      <td>(SEM DIARREIA, FEBRÍCOLA, FADIGA)</td>\n",
       "    </tr>\n",
       "    <tr>\n",
       "      <th>0</th>\n",
       "      <td>0.059941</td>\n",
       "      <td>(SEM TOSSE, DOR DE GARGANTA)</td>\n",
       "    </tr>\n",
       "  </tbody>\n",
       "</table>\n",
       "<p>240 rows × 2 columns</p>\n",
       "</div>"
      ],
      "text/plain": [
       "      support                                           itemsets\n",
       "220  0.065341  (TOSSE PRODUTIVA, SEM PERDA DE PALADAR OU OLFATO)\n",
       "188  0.065201                         (AFEBRIL, TOSSE PRODUTIVA)\n",
       "209  0.064831              (SEM DIARREIA, SEM FADIGA, FEBRÍCOLA)\n",
       "231  0.064801   (DISPINÉIA LEVE, SEM PERDA DE PALADAR OU OLFATO)\n",
       "226  0.064721                    (DISPINÉIA LEVE, DOR DE CABEÇA)\n",
       "..        ...                                                ...\n",
       "21   0.060501                 (DOR DE GARGANTA, PERDA DE OLFATO)\n",
       "20   0.060401                       (FEBRÍCOLA, DOR DE GARGANTA)\n",
       "1    0.060241                       (SEM TOSSE, PERDA DE OLFATO)\n",
       "207  0.060141                  (SEM DIARREIA, FEBRÍCOLA, FADIGA)\n",
       "0    0.059941                       (SEM TOSSE, DOR DE GARGANTA)\n",
       "\n",
       "[240 rows x 2 columns]"
      ]
     },
     "execution_count": 11,
     "metadata": {},
     "output_type": "execute_result"
    }
   ],
   "source": [
    "frq_max = fpmax(df_encoded, min_support=0.05, use_colnames=True, max_len=None, verbose=0)\n",
    "\n",
    "frq_max.sort_values('support', ascending=False)"
   ]
  },
  {
   "cell_type": "code",
   "execution_count": 12,
   "metadata": {},
   "outputs": [
    {
     "data": {
      "text/html": [
       "<div>\n",
       "<style scoped>\n",
       "    .dataframe tbody tr th:only-of-type {\n",
       "        vertical-align: middle;\n",
       "    }\n",
       "\n",
       "    .dataframe tbody tr th {\n",
       "        vertical-align: top;\n",
       "    }\n",
       "\n",
       "    .dataframe thead th {\n",
       "        text-align: right;\n",
       "    }\n",
       "</style>\n",
       "<table border=\"1\" class=\"dataframe\">\n",
       "  <thead>\n",
       "    <tr style=\"text-align: right;\">\n",
       "      <th></th>\n",
       "      <th>support</th>\n",
       "      <th>itemsets</th>\n",
       "    </tr>\n",
       "  </thead>\n",
       "  <tbody>\n",
       "    <tr>\n",
       "      <th>0</th>\n",
       "      <td>0.501445</td>\n",
       "      <td>(SEM FADIGA)</td>\n",
       "    </tr>\n",
       "    <tr>\n",
       "      <th>1</th>\n",
       "      <td>0.500425</td>\n",
       "      <td>(DIARREIA)</td>\n",
       "    </tr>\n",
       "    <tr>\n",
       "      <th>7</th>\n",
       "      <td>0.499575</td>\n",
       "      <td>(SEM DIARREIA)</td>\n",
       "    </tr>\n",
       "    <tr>\n",
       "      <th>8</th>\n",
       "      <td>0.498555</td>\n",
       "      <td>(FADIGA)</td>\n",
       "    </tr>\n",
       "    <tr>\n",
       "      <th>2</th>\n",
       "      <td>0.252563</td>\n",
       "      <td>(DISPINÉIA LEVE)</td>\n",
       "    </tr>\n",
       "    <tr>\n",
       "      <th>...</th>\n",
       "      <td>...</td>\n",
       "      <td>...</td>\n",
       "    </tr>\n",
       "    <tr>\n",
       "      <th>252</th>\n",
       "      <td>0.060501</td>\n",
       "      <td>(DOR DE GARGANTA, PERDA DE OLFATO)</td>\n",
       "    </tr>\n",
       "    <tr>\n",
       "      <th>240</th>\n",
       "      <td>0.060401</td>\n",
       "      <td>(FEBRÍCOLA, DOR DE GARGANTA)</td>\n",
       "    </tr>\n",
       "    <tr>\n",
       "      <th>315</th>\n",
       "      <td>0.060241</td>\n",
       "      <td>(SEM TOSSE, PERDA DE OLFATO)</td>\n",
       "    </tr>\n",
       "    <tr>\n",
       "      <th>150</th>\n",
       "      <td>0.060141</td>\n",
       "      <td>(SEM DIARREIA, FEBRÍCOLA, FADIGA)</td>\n",
       "    </tr>\n",
       "    <tr>\n",
       "      <th>317</th>\n",
       "      <td>0.059941</td>\n",
       "      <td>(SEM TOSSE, DOR DE GARGANTA)</td>\n",
       "    </tr>\n",
       "  </tbody>\n",
       "</table>\n",
       "<p>348 rows × 2 columns</p>\n",
       "</div>"
      ],
      "text/plain": [
       "      support                            itemsets\n",
       "0    0.501445                        (SEM FADIGA)\n",
       "1    0.500425                          (DIARREIA)\n",
       "7    0.499575                      (SEM DIARREIA)\n",
       "8    0.498555                            (FADIGA)\n",
       "2    0.252563                    (DISPINÉIA LEVE)\n",
       "..        ...                                 ...\n",
       "252  0.060501  (DOR DE GARGANTA, PERDA DE OLFATO)\n",
       "240  0.060401        (FEBRÍCOLA, DOR DE GARGANTA)\n",
       "315  0.060241        (SEM TOSSE, PERDA DE OLFATO)\n",
       "150  0.060141   (SEM DIARREIA, FEBRÍCOLA, FADIGA)\n",
       "317  0.059941        (SEM TOSSE, DOR DE GARGANTA)\n",
       "\n",
       "[348 rows x 2 columns]"
      ]
     },
     "execution_count": 12,
     "metadata": {},
     "output_type": "execute_result"
    }
   ],
   "source": [
    "frq_growth = fpgrowth(df_encoded, min_support=0.05, use_colnames=True, max_len=None, verbose=0)\n",
    "\n",
    "frq_growth.sort_values('support', ascending=False)"
   ]
  }
 ],
 "metadata": {
  "interpreter": {
   "hash": "916dbcbb3f70747c44a77c7bcd40155683ae19c65e1c03b4aa3499c5328201f1"
  },
  "kernelspec": {
   "display_name": "Python 3.9.7 64-bit",
   "language": "python",
   "name": "python3"
  },
  "language_info": {
   "codemirror_mode": {
    "name": "ipython",
    "version": 3
   },
   "file_extension": ".py",
   "mimetype": "text/x-python",
   "name": "python",
   "nbconvert_exporter": "python",
   "pygments_lexer": "ipython3",
   "version": "3.9.7"
  },
  "orig_nbformat": 4
 },
 "nbformat": 4,
 "nbformat_minor": 2
}
